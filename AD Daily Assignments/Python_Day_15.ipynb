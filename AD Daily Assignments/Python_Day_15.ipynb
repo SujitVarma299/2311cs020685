{
  "nbformat": 4,
  "nbformat_minor": 0,
  "metadata": {
    "colab": {
      "provenance": [],
      "authorship_tag": "ABX9TyN1aFaJMHUvS3yKJyZa8OAz",
      "include_colab_link": true
    },
    "kernelspec": {
      "name": "python3",
      "display_name": "Python 3"
    },
    "language_info": {
      "name": "python"
    }
  },
  "cells": [
    {
      "cell_type": "markdown",
      "metadata": {
        "id": "view-in-github",
        "colab_type": "text"
      },
      "source": [
        "<a href=\"https://colab.research.google.com/github/SujitVarma299/2311cs020685/blob/main/AD%20Daily%20Assignments/Python_Day_15.ipynb\" target=\"_parent\"><img src=\"https://colab.research.google.com/assets/colab-badge.svg\" alt=\"Open In Colab\"/></a>"
      ]
    },
    {
      "cell_type": "code",
      "execution_count": null,
      "metadata": {
        "id": "eVNs_4vx578Z"
      },
      "outputs": [],
      "source": [
        "import pandas as pd\n",
        "import seaborn as sns\n",
        "import matplotlib.pyplot as plt\n",
        "from sklearn.impute import KNNImputer"
      ]
    },
    {
      "cell_type": "code",
      "source": [
        "from google.colab import files\n",
        "uploaded = files.upload()\n"
      ],
      "metadata": {
        "colab": {
          "base_uri": "https://localhost:8080/",
          "height": 73
        },
        "id": "EO8BGA7S5-lB",
        "outputId": "9ebc6e8a-3213-441d-b271-9d8d8f4b4d41"
      },
      "execution_count": null,
      "outputs": [
        {
          "output_type": "display_data",
          "data": {
            "text/plain": [
              "<IPython.core.display.HTML object>"
            ],
            "text/html": [
              "\n",
              "     <input type=\"file\" id=\"files-f0ccce64-dc9d-4e28-9933-2bd7affb8b7d\" name=\"files[]\" multiple disabled\n",
              "        style=\"border:none\" />\n",
              "     <output id=\"result-f0ccce64-dc9d-4e28-9933-2bd7affb8b7d\">\n",
              "      Upload widget is only available when the cell has been executed in the\n",
              "      current browser session. Please rerun this cell to enable.\n",
              "      </output>\n",
              "      <script>// Copyright 2017 Google LLC\n",
              "//\n",
              "// Licensed under the Apache License, Version 2.0 (the \"License\");\n",
              "// you may not use this file except in compliance with the License.\n",
              "// You may obtain a copy of the License at\n",
              "//\n",
              "//      http://www.apache.org/licenses/LICENSE-2.0\n",
              "//\n",
              "// Unless required by applicable law or agreed to in writing, software\n",
              "// distributed under the License is distributed on an \"AS IS\" BASIS,\n",
              "// WITHOUT WARRANTIES OR CONDITIONS OF ANY KIND, either express or implied.\n",
              "// See the License for the specific language governing permissions and\n",
              "// limitations under the License.\n",
              "\n",
              "/**\n",
              " * @fileoverview Helpers for google.colab Python module.\n",
              " */\n",
              "(function(scope) {\n",
              "function span(text, styleAttributes = {}) {\n",
              "  const element = document.createElement('span');\n",
              "  element.textContent = text;\n",
              "  for (const key of Object.keys(styleAttributes)) {\n",
              "    element.style[key] = styleAttributes[key];\n",
              "  }\n",
              "  return element;\n",
              "}\n",
              "\n",
              "// Max number of bytes which will be uploaded at a time.\n",
              "const MAX_PAYLOAD_SIZE = 100 * 1024;\n",
              "\n",
              "function _uploadFiles(inputId, outputId) {\n",
              "  const steps = uploadFilesStep(inputId, outputId);\n",
              "  const outputElement = document.getElementById(outputId);\n",
              "  // Cache steps on the outputElement to make it available for the next call\n",
              "  // to uploadFilesContinue from Python.\n",
              "  outputElement.steps = steps;\n",
              "\n",
              "  return _uploadFilesContinue(outputId);\n",
              "}\n",
              "\n",
              "// This is roughly an async generator (not supported in the browser yet),\n",
              "// where there are multiple asynchronous steps and the Python side is going\n",
              "// to poll for completion of each step.\n",
              "// This uses a Promise to block the python side on completion of each step,\n",
              "// then passes the result of the previous step as the input to the next step.\n",
              "function _uploadFilesContinue(outputId) {\n",
              "  const outputElement = document.getElementById(outputId);\n",
              "  const steps = outputElement.steps;\n",
              "\n",
              "  const next = steps.next(outputElement.lastPromiseValue);\n",
              "  return Promise.resolve(next.value.promise).then((value) => {\n",
              "    // Cache the last promise value to make it available to the next\n",
              "    // step of the generator.\n",
              "    outputElement.lastPromiseValue = value;\n",
              "    return next.value.response;\n",
              "  });\n",
              "}\n",
              "\n",
              "/**\n",
              " * Generator function which is called between each async step of the upload\n",
              " * process.\n",
              " * @param {string} inputId Element ID of the input file picker element.\n",
              " * @param {string} outputId Element ID of the output display.\n",
              " * @return {!Iterable<!Object>} Iterable of next steps.\n",
              " */\n",
              "function* uploadFilesStep(inputId, outputId) {\n",
              "  const inputElement = document.getElementById(inputId);\n",
              "  inputElement.disabled = false;\n",
              "\n",
              "  const outputElement = document.getElementById(outputId);\n",
              "  outputElement.innerHTML = '';\n",
              "\n",
              "  const pickedPromise = new Promise((resolve) => {\n",
              "    inputElement.addEventListener('change', (e) => {\n",
              "      resolve(e.target.files);\n",
              "    });\n",
              "  });\n",
              "\n",
              "  const cancel = document.createElement('button');\n",
              "  inputElement.parentElement.appendChild(cancel);\n",
              "  cancel.textContent = 'Cancel upload';\n",
              "  const cancelPromise = new Promise((resolve) => {\n",
              "    cancel.onclick = () => {\n",
              "      resolve(null);\n",
              "    };\n",
              "  });\n",
              "\n",
              "  // Wait for the user to pick the files.\n",
              "  const files = yield {\n",
              "    promise: Promise.race([pickedPromise, cancelPromise]),\n",
              "    response: {\n",
              "      action: 'starting',\n",
              "    }\n",
              "  };\n",
              "\n",
              "  cancel.remove();\n",
              "\n",
              "  // Disable the input element since further picks are not allowed.\n",
              "  inputElement.disabled = true;\n",
              "\n",
              "  if (!files) {\n",
              "    return {\n",
              "      response: {\n",
              "        action: 'complete',\n",
              "      }\n",
              "    };\n",
              "  }\n",
              "\n",
              "  for (const file of files) {\n",
              "    const li = document.createElement('li');\n",
              "    li.append(span(file.name, {fontWeight: 'bold'}));\n",
              "    li.append(span(\n",
              "        `(${file.type || 'n/a'}) - ${file.size} bytes, ` +\n",
              "        `last modified: ${\n",
              "            file.lastModifiedDate ? file.lastModifiedDate.toLocaleDateString() :\n",
              "                                    'n/a'} - `));\n",
              "    const percent = span('0% done');\n",
              "    li.appendChild(percent);\n",
              "\n",
              "    outputElement.appendChild(li);\n",
              "\n",
              "    const fileDataPromise = new Promise((resolve) => {\n",
              "      const reader = new FileReader();\n",
              "      reader.onload = (e) => {\n",
              "        resolve(e.target.result);\n",
              "      };\n",
              "      reader.readAsArrayBuffer(file);\n",
              "    });\n",
              "    // Wait for the data to be ready.\n",
              "    let fileData = yield {\n",
              "      promise: fileDataPromise,\n",
              "      response: {\n",
              "        action: 'continue',\n",
              "      }\n",
              "    };\n",
              "\n",
              "    // Use a chunked sending to avoid message size limits. See b/62115660.\n",
              "    let position = 0;\n",
              "    do {\n",
              "      const length = Math.min(fileData.byteLength - position, MAX_PAYLOAD_SIZE);\n",
              "      const chunk = new Uint8Array(fileData, position, length);\n",
              "      position += length;\n",
              "\n",
              "      const base64 = btoa(String.fromCharCode.apply(null, chunk));\n",
              "      yield {\n",
              "        response: {\n",
              "          action: 'append',\n",
              "          file: file.name,\n",
              "          data: base64,\n",
              "        },\n",
              "      };\n",
              "\n",
              "      let percentDone = fileData.byteLength === 0 ?\n",
              "          100 :\n",
              "          Math.round((position / fileData.byteLength) * 100);\n",
              "      percent.textContent = `${percentDone}% done`;\n",
              "\n",
              "    } while (position < fileData.byteLength);\n",
              "  }\n",
              "\n",
              "  // All done.\n",
              "  yield {\n",
              "    response: {\n",
              "      action: 'complete',\n",
              "    }\n",
              "  };\n",
              "}\n",
              "\n",
              "scope.google = scope.google || {};\n",
              "scope.google.colab = scope.google.colab || {};\n",
              "scope.google.colab._files = {\n",
              "  _uploadFiles,\n",
              "  _uploadFilesContinue,\n",
              "};\n",
              "})(self);\n",
              "</script> "
            ]
          },
          "metadata": {}
        },
        {
          "output_type": "stream",
          "name": "stdout",
          "text": [
            "Saving Day_15_Healthcare_Data.csv to Day_15_Healthcare_Data.csv\n"
          ]
        }
      ]
    },
    {
      "cell_type": "code",
      "source": [
        "df = pd.read_csv('Day_15_Healthcare_Data.csv')\n",
        "print(df.head())\n",
        "print(df.describe())\n",
        "print(df.info())\n"
      ],
      "metadata": {
        "colab": {
          "base_uri": "https://localhost:8080/"
        },
        "id": "-7HHUmiH78be",
        "outputId": "bfdac4f6-4636-464b-c5be-a9677ce2faee"
      },
      "execution_count": null,
      "outputs": [
        {
          "output_type": "stream",
          "name": "stdout",
          "text": [
            "   Patient_ID  Age  Gender  Blood_Pressure  Cholesterol Diabetes Heart_Disease\n",
            "0           1   69    Male            95.0        122.0       No            No\n",
            "1           2   32    Male           129.0        191.0       No            No\n",
            "2           3   89  Female           101.0        214.0       No            No\n",
            "3           4   78  Female           142.0        203.0       No            No\n",
            "4           5   38    Male           160.0        217.0       No            No\n",
            "       Patient_ID         Age  Blood_Pressure  Cholesterol\n",
            "count  505.000000  505.000000      475.000000   485.000000\n",
            "mean   249.693069   52.918812      133.412632   200.470103\n",
            "std    144.240508   21.064700       25.933424    58.533857\n",
            "min      1.000000   18.000000       90.000000   101.000000\n",
            "25%    126.000000   34.000000      111.000000   149.000000\n",
            "50%    249.000000   52.000000      132.000000   207.000000\n",
            "75%    374.000000   71.000000      155.000000   249.000000\n",
            "max    500.000000   89.000000      179.000000   299.000000\n",
            "<class 'pandas.core.frame.DataFrame'>\n",
            "RangeIndex: 505 entries, 0 to 504\n",
            "Data columns (total 7 columns):\n",
            " #   Column          Non-Null Count  Dtype  \n",
            "---  ------          --------------  -----  \n",
            " 0   Patient_ID      505 non-null    int64  \n",
            " 1   Age             505 non-null    int64  \n",
            " 2   Gender          484 non-null    object \n",
            " 3   Blood_Pressure  475 non-null    float64\n",
            " 4   Cholesterol     485 non-null    float64\n",
            " 5   Diabetes        505 non-null    object \n",
            " 6   Heart_Disease   505 non-null    object \n",
            "dtypes: float64(2), int64(2), object(3)\n",
            "memory usage: 27.7+ KB\n",
            "None\n"
          ]
        }
      ]
    },
    {
      "cell_type": "code",
      "source": [
        "missing_values = df.isna()\n",
        "print(missing_values.sum())\n",
        "missing_percentage = df.isna().mean() * 100\n",
        "print(missing_percentage)"
      ],
      "metadata": {
        "colab": {
          "base_uri": "https://localhost:8080/"
        },
        "id": "bb7FMeQL8H2G",
        "outputId": "afc3d84a-c8b5-41e8-ffbe-7738551856c8"
      },
      "execution_count": null,
      "outputs": [
        {
          "output_type": "stream",
          "name": "stdout",
          "text": [
            "Patient_ID         0\n",
            "Age                0\n",
            "Gender            21\n",
            "Blood_Pressure    30\n",
            "Cholesterol       20\n",
            "Diabetes           0\n",
            "Heart_Disease      0\n",
            "dtype: int64\n",
            "Patient_ID        0.000000\n",
            "Age               0.000000\n",
            "Gender            4.158416\n",
            "Blood_Pressure    5.940594\n",
            "Cholesterol       3.960396\n",
            "Diabetes          0.000000\n",
            "Heart_Disease     0.000000\n",
            "dtype: float64\n"
          ]
        }
      ]
    },
    {
      "cell_type": "code",
      "source": [
        "sns.heatmap(df.isna(), cbar=False, cmap='viridis')\n",
        "plt.show()"
      ],
      "metadata": {
        "colab": {
          "base_uri": "https://localhost:8080/",
          "height": 528
        },
        "id": "opkI8wzv8M5d",
        "outputId": "f493f2a6-4cda-49c3-b446-89b1162c5120"
      },
      "execution_count": null,
      "outputs": [
        {
          "output_type": "display_data",
          "data": {
            "text/plain": [
              "<Figure size 640x480 with 1 Axes>"
            ],
            "image/png": "[encoded data removed]"
          },
          "metadata": {}
        }
      ]
    },
    {
      "cell_type": "code",
      "source": [
        "if 'numerical_column' in df.columns and pd.api.types.is_numeric_dtype(df['numerical_column']):\n",
        "    df['numerical_column'].fillna(df['numerical_column'].mean(), inplace=True)\n",
        "    df['numerical_column'].fillna(df['numerical_column'].median(), inplace=True)\n",
        "else:\n",
        "    print(\"numerical_column not found or not numeric\")\n",
        "if 'categorical_column' in df.columns:\n",
        "    df['categorical_column'].fillna(df['categorical_column'].mode()[0], inplace=True)\n",
        "else:\n",
        "    print(\"categorical_column not found\")\n",
        "from sklearn.impute import KNNImputer\n",
        "df_numeric = df.select_dtypes(include=[float, int])\n",
        "knn_imputer = KNNImputer(n_neighbors=5)\n",
        "df_knn_imputed = knn_imputer.fit_transform(df_numeric)\n",
        "df_knn_imputed = pd.DataFrame(df_knn_imputed, columns=df_numeric.columns)"
      ],
      "metadata": {
        "colab": {
          "base_uri": "https://localhost:8080/"
        },
        "id": "nkADV0G48NBN",
        "outputId": "c0fea3b4-ab71-417b-ae50-b4a4000554b6"
      },
      "execution_count": null,
      "outputs": [
        {
          "output_type": "stream",
          "name": "stdout",
          "text": [
            "numerical_column not found or not numeric\n",
            "categorical_column not found\n"
          ]
        }
      ]
    },
    {
      "cell_type": "code",
      "source": [
        "print(df.describe())\n",
        "print(df_knn_imputed.describe())\n",
        "sns.boxplot(data=df)\n",
        "plt.show()\n",
        "sns.boxplot(data=df_knn_imputed)\n",
        "plt.show()"
      ],
      "metadata": {
        "colab": {
          "base_uri": "https://localhost:8080/",
          "height": 1000
        },
        "id": "RDAu5FPb8UtQ",
        "outputId": "cc5d5ef8-6450-449d-f881-1f248fd69029"
      },
      "execution_count": null,
      "outputs": [
        {
          "output_type": "stream",
          "name": "stdout",
          "text": [
            "       Patient_ID         Age  Blood_Pressure  Cholesterol\n",
            "count  505.000000  505.000000      475.000000   485.000000\n",
            "mean   249.693069   52.918812      133.412632   200.470103\n",
            "std    144.240508   21.064700       25.933424    58.533857\n",
            "min      1.000000   18.000000       90.000000   101.000000\n",
            "25%    126.000000   34.000000      111.000000   149.000000\n",
            "50%    249.000000   52.000000      132.000000   207.000000\n",
            "75%    374.000000   71.000000      155.000000   249.000000\n",
            "max    500.000000   89.000000      179.000000   299.000000\n",
            "       Patient_ID         Age  Blood_Pressure  Cholesterol\n",
            "count  505.000000  505.000000      505.000000   505.000000\n",
            "mean   249.693069   52.918812      133.374653   200.173465\n",
            "std    144.240508   21.064700       25.235925    57.680363\n",
            "min      1.000000   18.000000       90.000000   101.000000\n",
            "25%    126.000000   34.000000      113.000000   151.000000\n",
            "50%    249.000000   52.000000      132.800000   206.600000\n",
            "75%    374.000000   71.000000      153.000000   248.000000\n",
            "max    500.000000   89.000000      179.000000   299.000000\n"
          ]
        },
        {
          "output_type": "display_data",
          "data": {
            "text/plain": [
              "<Figure size 640x480 with 1 Axes>"
            ],
            "image/png": "[encoded data removed]"
          },
          "metadata": {}
        },
        {
          "output_type": "display_data",
          "data": {
            "text/plain": [
              "<Figure size 640x480 with 1 Axes>"
            ],
            "image/png": "[encoded data removed]"
          },
          "metadata": {}
        }
      ]
    }
  ]
}