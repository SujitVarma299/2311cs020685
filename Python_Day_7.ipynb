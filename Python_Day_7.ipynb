{
  "nbformat": 4,
  "nbformat_minor": 0,
  "metadata": {
    "colab": {
      "provenance": [],
      "authorship_tag": "ABX9TyPw310Nt8Ez2xW2ePpVpo5b",
      "include_colab_link": true
    },
    "kernelspec": {
      "name": "python3",
      "display_name": "Python 3"
    },
    "language_info": {
      "name": "python"
    }
  },
  "cells": [
    {
      "cell_type": "markdown",
      "metadata": {
        "id": "view-in-github",
        "colab_type": "text"
      },
      "source": [
        "<a href=\"https://colab.research.google.com/github/SujitVarma299/2311cs020685/blob/main/Python_Day_7.ipynb\" target=\"_parent\"><img src=\"https://colab.research.google.com/assets/colab-badge.svg\" alt=\"Open In Colab\"/></a>"
      ]
    },
    {
      "cell_type": "code",
      "execution_count": 1,
      "metadata": {
        "colab": {
          "base_uri": "https://localhost:8080/"
        },
        "id": "uSVfmKs5AvXv",
        "outputId": "5061b6e7-5bc0-412d-a084-ada7a30b92b6"
      },
      "outputs": [
        {
          "output_type": "stream",
          "name": "stdout",
          "text": [
            "First 5 rows of the dataset:\n",
            "         Date Product Region    Sales  Profit  Quantity\n",
            "0  2023-01-02  Tablet   East  1061.81  236.12         7\n",
            "1  2023-01-03  Laptop  North  1926.07  246.34         8\n",
            "2  2023-01-03  Tablet   East  1597.99  253.17         3\n",
            "3  2023-01-20  Tablet  North  1397.99  242.23         4\n",
            "4  2023-01-04  Laptop   West   734.03  140.36         4\n",
            "\n",
            "Basic statistics of the numerical columns:\n",
            "             Sales      Profit   Quantity\n",
            "count    20.000000   20.000000  20.000000\n",
            "mean   1186.553000  211.533000   5.500000\n",
            "std     461.528444   66.916251   2.115109\n",
            "min     530.880000   82.160000   2.000000\n",
            "25%     774.517500  166.515000   4.000000\n",
            "50%    1104.865000  214.670000   5.500000\n",
            "75%    1571.080000  248.047500   7.250000\n",
            "max    1954.860000  364.970000   9.000000\n",
            "\n",
            "Total sales for each region:\n",
            "Region\n",
            "East      5818.93\n",
            "North    10449.68\n",
            "South      936.84\n",
            "West      6525.61\n",
            "Name: Sales, dtype: float64\n",
            "\n",
            "Most sold product (based on quantity):\n",
            "Tablet\n",
            "\n",
            "Average profit margin for each product:\n",
            "Product\n",
            "Keyboard      20.080696\n",
            "Laptop        17.112734\n",
            "Monitor       15.134989\n",
            "Smartphone    23.703647\n",
            "Tablet        19.955758\n",
            "Name: ProfitMargin, dtype: float64\n"
          ]
        }
      ],
      "source": [
        "import pandas as pd\n",
        "\n",
        "# Sample data for sales transactions\n",
        "sales_data = {\n",
        "    'Date': ['2023-01-02', '2023-01-03', '2023-01-03', '2023-01-20', '2023-01-04', '2023-01-17',\n",
        "             '2023-01-14', '2023-01-07', '2023-01-11', '2023-01-01', '2023-01-19', '2023-01-12',\n",
        "             '2023-01-09', '2023-01-10', '2023-01-08', '2023-01-05', '2023-01-15', '2023-01-18',\n",
        "             '2023-01-13', '2023-01-16'],\n",
        "    'Product': ['Tablet', 'Laptop', 'Tablet', 'Tablet', 'Laptop', 'Tablet', 'Keyboard', 'Smartphone',\n",
        "                'Smartphone', 'Laptop', 'Monitor', 'Laptop', 'Monitor', 'Smartphone', 'Laptop',\n",
        "                'Keyboard', 'Tablet', 'Monitor', 'Tablet', 'Tablet'],\n",
        "    'Region': ['East', 'North', 'East', 'North', 'West', 'North', 'East', 'East', 'West', 'North',\n",
        "               'North', 'West', 'North', 'North', 'East', 'North', 'North', 'West', 'West', 'South'],\n",
        "    'Sales': [1061.81, 1926.07, 1597.99, 1397.99, 734.03, 733.99, 587.13, 1799.26, 1401.67, 1562.11,\n",
        "              530.88, 1954.86, 1748.66, 818.51, 772.74, 775.11, 956.36, 1287.13, 1147.92, 936.84],\n",
        "    'Profit': [236.12, 246.34, 253.17, 242.23, 140.36, 188.66, 82.16, 364.97, 306.24, 170.72,\n",
        "               117.59, 262.16, 197.62, 237.19, 226.51, 202.83, 153.9, 153.86, 271.88, 176.15],\n",
        "    'Quantity': [7, 8, 3, 4, 4, 4, 9, 4, 4, 6, 5, 6, 6, 2, 3, 4, 8, 6, 9, 8]\n",
        "}\n",
        "\n",
        "# Convert data into DataFrame\n",
        "sales_df = pd.DataFrame(sales_data)\n",
        "\n",
        "# Display the first 5 rows of the dataset\n",
        "print(\"First 5 rows of the dataset:\")\n",
        "print(sales_df.head())\n",
        "\n",
        "# Print basic statistics of the numerical columns\n",
        "print(\"\\nBasic statistics of the numerical columns:\")\n",
        "print(sales_df.describe())\n",
        "\n",
        "# Calculate the total sales for each region\n",
        "total_sales_by_region = sales_df.groupby('Region')['Sales'].sum()\n",
        "print(\"\\nTotal sales for each region:\")\n",
        "print(total_sales_by_region)\n",
        "\n",
        "# Find the most sold product (based on quantity)\n",
        "most_sold_product = sales_df.groupby('Product')['Quantity'].sum().idxmax()\n",
        "print(\"\\nMost sold product (based on quantity):\")\n",
        "print(most_sold_product)\n",
        "\n",
        "# Compute the average profit margin for each product\n",
        "sales_df['ProfitMargin'] = (sales_df['Profit'] / sales_df['Sales']) * 100\n",
        "average_profit_margin_by_product = sales_df.groupby('Product')['ProfitMargin'].mean()\n",
        "print(\"\\nAverage profit margin for each product:\")\n",
        "print(average_profit_margin_by_product)\n"
      ]
    },
    {
      "cell_type": "code",
      "source": [],
      "metadata": {
        "id": "zZMDvE3PBEd3"
      },
      "execution_count": null,
      "outputs": []
    }
  ]
}