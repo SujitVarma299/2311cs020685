{
  "nbformat": 4,
  "nbformat_minor": 0,
  "metadata": {
    "colab": {
      "provenance": [],
      "authorship_tag": "ABX9TyNlnxigAyyQkRQeiwJme2OI",
      "include_colab_link": true
    },
    "kernelspec": {
      "name": "python3",
      "display_name": "Python 3"
    },
    "language_info": {
      "name": "python"
    }
  },
  "cells": [
    {
      "cell_type": "markdown",
      "metadata": {
        "id": "view-in-github",
        "colab_type": "text"
      },
      "source": [
        "<a href=\"https://colab.research.google.com/github/SujitVarma299/2311cs020685/blob/main/AD.ipynb\" target=\"_parent\"><img src=\"https://colab.research.google.com/assets/colab-badge.svg\" alt=\"Open In Colab\"/></a>"
      ]
    },
    {
      "cell_type": "code",
      "source": [
        "lis=[1,2,3,4,5,6]\n",
        "iterate_var=iter(lis)\n",
        "print(iterate_var)"
      ],
      "metadata": {
        "colab": {
          "base_uri": "https://localhost:8080/"
        },
        "id": "5lNwoJtRGObT",
        "outputId": "c888421b-2650-4c13-eaf4-9fbf44e11637"
      },
      "execution_count": 1,
      "outputs": [
        {
          "output_type": "stream",
          "name": "stdout",
          "text": [
            "<list_iterator object at 0x7e85fcddd210>\n"
          ]
        }
      ]
    },
    {
      "cell_type": "code",
      "source": [
        "import pandas as pd\n",
        "screen_time = [5, 4, 3, 2, 1]\n",
        "stu_name = [\"thrishanth\"]* len(screen_time)\n",
        "id = [1, 2, 3, 4, 5]\n",
        "dict1 = {\"screen_time\": screen_time, \"stu_name\": stu_name, \"id\": id}\n",
        "df = pd.DataFrame(dict1)\n",
        "print(dict1)"
      ],
      "metadata": {
        "colab": {
          "base_uri": "https://localhost:8080/"
        },
        "id": "f5VXZSy0acjx",
        "outputId": "c94ec36b-f20e-4f20-9b95-887cd7edfd3b"
      },
      "execution_count": 2,
      "outputs": [
        {
          "output_type": "stream",
          "name": "stdout",
          "text": [
            "{'screen_time': [5, 4, 3, 2, 1], 'stu_name': ['thrishanth', 'thrishanth', 'thrishanth', 'thrishanth', 'thrishanth'], 'id': [1, 2, 3, 4, 5]}\n"
          ]
        }
      ]
    },
    {
      "cell_type": "code",
      "source": [
        "def square(i):\n",
        "  for i in range(i):\n",
        "    i = i + 2\n",
        "  return i\n",
        "res = square(10)\n",
        "print(res)"
      ],
      "metadata": {
        "colab": {
          "base_uri": "https://localhost:8080/"
        },
        "id": "pWlV2rP4azuG",
        "outputId": "5198853c-b087-4366-c84f-bbffdcd7b901"
      },
      "execution_count": 3,
      "outputs": [
        {
          "output_type": "stream",
          "name": "stdout",
          "text": [
            "11\n"
          ]
        }
      ]
    },
    {
      "cell_type": "code",
      "source": [
        "def dev_dec(func):\n",
        "  def inner(a,b):\n",
        "    if a < b:\n",
        "      a,b=b,a\n",
        "    return func(a,b)\n",
        "  return inner\n",
        "def div(a,b):\n",
        "  return a/b\n",
        "print(div(2,4))"
      ],
      "metadata": {
        "colab": {
          "base_uri": "https://localhost:8080/"
        },
        "id": "yxUmuHSra28-",
        "outputId": "bedc825f-cc0e-40d0-b7f0-cc2ebcc56596"
      },
      "execution_count": 4,
      "outputs": [
        {
          "output_type": "stream",
          "name": "stdout",
          "text": [
            "0.5\n"
          ]
        }
      ]
    },
    {
      "cell_type": "code",
      "source": [
        "def smart_dec(func):\n",
        "    def inner(a, b):\n",
        "        if b == 0:\n",
        "            return \"Error: cannot divide.\"\n",
        "        if a > b:\n",
        "            a, b = b, a\n",
        "        return func(a, b)\n",
        "    return inner\n",
        "@smart_dec\n",
        "def div(a, b):\n",
        "    return a / b\n",
        "print(div(6, 0))\n",
        "print(div(6, 2))"
      ],
      "metadata": {
        "colab": {
          "base_uri": "https://localhost:8080/"
        },
        "id": "XYZPZacma4BV",
        "outputId": "f8d2048b-1a06-45d6-e96b-139ffd56ad5a"
      },
      "execution_count": 5,
      "outputs": [
        {
          "output_type": "stream",
          "name": "stdout",
          "text": [
            "Error: cannot divide.\n",
            "0.3333333333333333\n"
          ]
        }
      ]
    },
    {
      "cell_type": "code",
      "source": [
        "def smart_dec(func):\n",
        "    def inner(a, b):\n",
        "        if a * b > 20:\n",
        "            return f\"Multiplication is greater than 20, performing division: {a / b if b != 0 else 'Error: cannot divide by zero'}\"\n",
        "        return func(a, b)\n",
        "    return inner\n",
        "@smart_dec\n",
        "def mul(a, b):\n",
        "    return a * b\n",
        "print(mul(5, 4))\n",
        "print(mul(2, 3))\n",
        ""
      ],
      "metadata": {
        "colab": {
          "base_uri": "https://localhost:8080/"
        },
        "id": "Hae_5h1La6qR",
        "outputId": "524bfae1-2901-4b93-cffc-e89e61d55520"
      },
      "execution_count": 6,
      "outputs": [
        {
          "output_type": "stream",
          "name": "stdout",
          "text": [
            "20\n",
            "6\n"
          ]
        }
      ]
    }
  ]
}