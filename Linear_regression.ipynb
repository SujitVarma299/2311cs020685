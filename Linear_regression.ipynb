{
  "cells": [
    {
      "cell_type": "markdown",
      "metadata": {
        "id": "view-in-github",
        "colab_type": "text"
      },
      "source": [
        "<a href=\"https://colab.research.google.com/github/SujitVarma299/2311cs020685/blob/main/Linear_regression.ipynb\" target=\"_parent\"><img src=\"https://colab.research.google.com/assets/colab-badge.svg\" alt=\"Open In Colab\"/></a>"
      ]
    },
    {
      "cell_type": "code",
      "source": [
        "#(y=mx+b) linear regression"
      ],
      "metadata": {
        "id": "ika9-9fKApp9"
      },
      "execution_count": 16,
      "outputs": []
    },
    {
      "cell_type": "code",
      "source": [
        "import numpy as np\n",
        "import matplotlib.pyplot as plt\n",
        "from sklearn.linear_model import LinearRegression\n",
        "x = np.array([20]).reshape(-1, 1)\n",
        "y = np.array([45])\n",
        "model = LinearRegression()\n",
        "model.fit(x, y)\n",
        "predicted_fare = model.predict(np.array([[20]]))\n",
        "print(f\"Predicted Fare for 20 km: {predicted_fare[0]}\")\n",
        "plt.scatter(x, y, color='blue')\n",
        "plt.plot(x, model.predict(x), color='red')\n",
        "plt.xlabel(\"Number of Kilometers\")\n",
        "plt.ylabel(\"Fare\")\n",
        "plt.title(\"Cab Fare Prediction\")\n",
        "plt.show()"
      ],
      "metadata": {
        "colab": {
          "base_uri": "https://localhost:8080/",
          "height": 490
        },
        "id": "SqM1ndjDArUd",
        "outputId": "21a73061-5b0c-42ea-ee57-1bf0c4c0815d"
      },
      "execution_count": 17,
      "outputs": [
        {
          "output_type": "stream",
          "name": "stdout",
          "text": [
            "Predicted Fare for 20 km: 45.0\n"
          ]
        },
        {
          "output_type": "display_data",
          "data": {
            "text/plain": [
              "<Figure size 640x480 with 1 Axes>"
            ],
            "image/png": "[encoded data removed]"
          },
          "metadata": {}
        }
      ]
    },
    {
      "cell_type": "code",
      "source": [
        "#Compare the prices of Ola and uber which one low price and by considering the\n",
        "#Below following things\n",
        "#Y =mx+e\n",
        "#Fare price is 25 for ola\n",
        "#No.of Km Traveled(20)\n",
        "#Ola :Base price is 50\n",
        "#Uber: base price is 35\n",
        "#Fare price:50\n",
        "# Define the constants for the fare calculations\n",
        "\n",
        "a = 50    #ola base price\n",
        "b = 35   #uber base price\n",
        "c = 25   #ola fare per km\n",
        "d = 20   #uber fare per km\n",
        "km = 20  #no of kms\n",
        "Olafare = a + (c * km)\n",
        "Uberfare = b + (d * km)\n",
        "print(f\"Ola Fare: {Olafare}\")\n",
        "print(f\"Uber Fare: {Uberfare}\")\n",
        "if Olafare < Uberfare:\n",
        "    print(\"Ola has the lower price.\")\n",
        "elif Olafare > Uberfare:\n",
        "    print(\"Uber has the lower price.\")\n",
        "else:\n",
        "    print(\"Both have the same price.\")"
      ],
      "metadata": {
        "id": "8iOWU5MAAwvd",
        "outputId": "6d0e239a-ec52-4e8a-9d1e-290bbdf4eb61",
        "colab": {
          "base_uri": "https://localhost:8080/"
        }
      },
      "execution_count": 18,
      "outputs": [
        {
          "output_type": "stream",
          "name": "stdout",
          "text": [
            "Ola Fare: 550\n",
            "Uber Fare: 435\n",
            "Uber has the lower price.\n"
          ]
        }
      ]
    }
  ],
  "metadata": {
    "colab": {
      "provenance": [],
      "authorship_tag": "ABX9TyMv9+tYjlubMt4wjf08mo3Z",
      "include_colab_link": true
    },
    "kernelspec": {
      "display_name": "Python 3",
      "name": "python3"
    },
    "language_info": {
      "name": "python"
    }
  },
  "nbformat": 4,
  "nbformat_minor": 0
}