{
  "nbformat": 4,
  "nbformat_minor": 0,
  "metadata": {
    "colab": {
      "provenance": [],
      "authorship_tag": "ABX9TyP24XrV5O92IZuAOfeDSKzP",
      "include_colab_link": true
    },
    "kernelspec": {
      "name": "python3",
      "display_name": "Python 3"
    },
    "language_info": {
      "name": "python"
    }
  },
  "cells": [
    {
      "cell_type": "markdown",
      "metadata": {
        "id": "view-in-github",
        "colab_type": "text"
      },
      "source": [
        "<a href=\"https://colab.research.google.com/github/SujitVarma299/2311cs020685/blob/main/Ad.ipynb\" target=\"_parent\"><img src=\"https://colab.research.google.com/assets/colab-badge.svg\" alt=\"Open In Colab\"/></a>"
      ]
    },
    {
      "cell_type": "code",
      "source": [
        "import pandas as pd\n",
        "screen_time = [5, 4, 3, 2, 1]\n",
        "stu_name = [\"thrishanth\"]* len(screen_time)\n",
        "id = [1, 2, 3, 4, 5]\n",
        "dict1 = {\"screen_time\": screen_time, \"stu_name\": stu_name, \"id\": id}\n",
        "df = pd.DataFrame(dict1)\n",
        "print(dict1)\n",
        ""
      ],
      "metadata": {
        "colab": {
          "base_uri": "https://localhost:8080/"
        },
        "id": "4r1w_Lw7bn_3",
        "outputId": "4387435e-72f1-4986-8646-b60752f3518b"
      },
      "execution_count": 10,
      "outputs": [
        {
          "output_type": "stream",
          "name": "stdout",
          "text": [
            "{'screen_time': [5, 4, 3, 2, 1], 'stu_name': ['thrishanth', 'thrishanth', 'thrishanth', 'thrishanth', 'thrishanth'], 'id': [1, 2, 3, 4, 5]}\n"
          ]
        }
      ]
    },
    {
      "cell_type": "code",
      "source": [
        "list =[1,2,3,4,5]\n",
        "iterate_var=iter(list)\n",
        "print(iterate_var)"
      ],
      "metadata": {
        "colab": {
          "base_uri": "https://localhost:8080/"
        },
        "id": "xGyjQyD8bqM2",
        "outputId": "ef97a2ca-9e0a-4da4-ea22-5a6f88863f50"
      },
      "execution_count": 11,
      "outputs": [
        {
          "output_type": "stream",
          "name": "stdout",
          "text": [
            "<list_iterator object at 0x7e85be6bd870>\n"
          ]
        }
      ]
    },
    {
      "cell_type": "code",
      "source": [
        "for i in iterate_var:\n",
        "  if i % 2 == 0:\n",
        "    print(i)"
      ],
      "metadata": {
        "colab": {
          "base_uri": "https://localhost:8080/"
        },
        "id": "lbr-rop7br7d",
        "outputId": "e141fe23-e5ad-4955-e343-fe13917cbe7f"
      },
      "execution_count": 12,
      "outputs": [
        {
          "output_type": "stream",
          "name": "stdout",
          "text": [
            "2\n",
            "4\n"
          ]
        }
      ]
    },
    {
      "cell_type": "code",
      "source": [
        "def square(i):\n",
        "  for i in range(i):\n",
        "    i = i + 2\n",
        "  return i\n",
        "res = square(10)\n",
        "print(res)"
      ],
      "metadata": {
        "colab": {
          "base_uri": "https://localhost:8080/"
        },
        "id": "xoqvHsc5btep",
        "outputId": "7b11bd14-00ea-4f54-ab86-573ee46c837e"
      },
      "execution_count": 13,
      "outputs": [
        {
          "output_type": "stream",
          "name": "stdout",
          "text": [
            "11\n"
          ]
        }
      ]
    },
    {
      "cell_type": "code",
      "source": [
        "result = lambda x,y,z: x*y*z\n",
        "print(result(10,20,30))"
      ],
      "metadata": {
        "colab": {
          "base_uri": "https://localhost:8080/"
        },
        "id": "-9xAt820buO3",
        "outputId": "300925eb-4401-4bd4-cc42-cfe28692542e"
      },
      "execution_count": 14,
      "outputs": [
        {
          "output_type": "stream",
          "name": "stdout",
          "text": [
            "6000\n"
          ]
        }
      ]
    }
  ]
}