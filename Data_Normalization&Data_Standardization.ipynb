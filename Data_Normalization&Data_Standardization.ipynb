{
  "cells": [
    {
      "cell_type": "markdown",
      "metadata": {
        "id": "view-in-github",
        "colab_type": "text"
      },
      "source": [
        "<a href=\"https://colab.research.google.com/github/SujitVarma299/2311cs020685/blob/main/Data_Normalization%26Data_Standardization.ipynb\" target=\"_parent\"><img src=\"https://colab.research.google.com/assets/colab-badge.svg\" alt=\"Open In Colab\"/></a>"
      ]
    },
    {
      "cell_type": "code",
      "source": [
        "import pandas as pd\n",
        "from sklearn.preprocessing import MinMaxScaler\n",
        "\n",
        "data = {\n",
        "    'age': [25, 30, 35, 40, 45],\n",
        "    'height': [150, 160, 170, 180, 190],\n",
        "    'weight': [50, 60, 70, 80, 90]\n",
        "}\n",
        "\n",
        "df = pd.DataFrame(data)\n",
        "print(\"Original Dataset:\")\n",
        "print(df)\n",
        "\n",
        "scaler = MinMaxScaler()\n",
        "normalized_data = scaler.fit_transform(df)\n",
        "\n",
        "# Change 'scaled_data' to 'normalized_data'\n",
        "normalized_df = pd.DataFrame(normalized_data, columns=df.columns)\n",
        "print(\"\\nNormalized Dataset(scaled to range [0,1]):\")\n",
        "print(normalized_df)\n",
        "print(\"\\nFeature-wise Min values After Scaling:\")\n",
        "print(normalized_df.min())\n",
        "# scaler=StandarsScalar() # This line has a typo and is unnecessary for the current task. Consider removing or fixing the typo if intended for use"
      ],
      "metadata": {
        "colab": {
          "base_uri": "https://localhost:8080/"
        },
        "id": "K_uVtNoL-Ohq",
        "outputId": "00f060aa-a7a7-4d86-e6b6-4f804d656d67"
      },
      "execution_count": 10,
      "outputs": [
        {
          "output_type": "stream",
          "name": "stdout",
          "text": [
            "Original Dataset:\n",
            "   age  height  weight\n",
            "0   25     150      50\n",
            "1   30     160      60\n",
            "2   35     170      70\n",
            "3   40     180      80\n",
            "4   45     190      90\n",
            "\n",
            "Normalized Dataset(scaled to range [0,1]):\n",
            "    age  height  weight\n",
            "0  0.00    0.00    0.00\n",
            "1  0.25    0.25    0.25\n",
            "2  0.50    0.50    0.50\n",
            "3  0.75    0.75    0.75\n",
            "4  1.00    1.00    1.00\n",
            "\n",
            "Feature-wise Min values After Scaling:\n",
            "age       0.0\n",
            "height    0.0\n",
            "weight    0.0\n",
            "dtype: float64\n"
          ]
        }
      ]
    },
    {
      "cell_type": "code",
      "source": [
        "import pandas as pd\n",
        "from sklearn.preprocessing import OneHotEncoder\n",
        "\n",
        "data = {\n",
        "    'age': [25, 30, 35, 40],\n",
        "    'gender': ['Male','Female','Male','Female'],\n",
        "    'city': ['Hyderabad','Bangalore','Mumbai','Pune']\n",
        "}\n",
        "\n",
        "df = pd.DataFrame(data)\n",
        "print(\"Original Dataset:\")\n",
        "print(df)\n",
        "one_hot_encoder=OneHotEncoder(sparse_output=False)\n",
        "columns_to_encode=['gender','city']\n",
        "encoded_data = one_hot_encoder.fit_transform(df[columns_to_encode])\n",
        "encoded_columns=one_hot_encoder.get_feature_names_out(columns_to_encode)\n",
        "encoded_df=pd.DataFrame(encoded_data, columns=encoded_columns)\n",
        "print(encoded_df)\n",
        "df_combined = pd.concat([df.drop(columns=columns_to_encode), encoded_df], axis=1)\n",
        "print(\"\\nDataset After One-Hot Encoding and Combination:\")\n",
        "print(df_combined)"
      ],
      "metadata": {
        "colab": {
          "base_uri": "https://localhost:8080/"
        },
        "id": "G5wT_AG--jvv",
        "outputId": "d834ee44-8504-466f-9a3f-63e4d2be576e"
      },
      "execution_count": 11,
      "outputs": [
        {
          "output_type": "stream",
          "name": "stdout",
          "text": [
            "Original Dataset:\n",
            "   age  gender       city\n",
            "0   25    Male  Hyderabad\n",
            "1   30  Female  Bangalore\n",
            "2   35    Male     Mumbai\n",
            "3   40  Female       Pune\n",
            "   gender_Female  gender_Male  city_Bangalore  city_Hyderabad  city_Mumbai  \\\n",
            "0            0.0          1.0             0.0             1.0          0.0   \n",
            "1            1.0          0.0             1.0             0.0          0.0   \n",
            "2            0.0          1.0             0.0             0.0          1.0   \n",
            "3            1.0          0.0             0.0             0.0          0.0   \n",
            "\n",
            "   city_Pune  \n",
            "0        0.0  \n",
            "1        0.0  \n",
            "2        0.0  \n",
            "3        1.0  \n",
            "\n",
            "Dataset After One-Hot Encoding and Combination:\n",
            "   age  gender_Female  gender_Male  city_Bangalore  city_Hyderabad  \\\n",
            "0   25            0.0          1.0             0.0             1.0   \n",
            "1   30            1.0          0.0             1.0             0.0   \n",
            "2   35            0.0          1.0             0.0             0.0   \n",
            "3   40            1.0          0.0             0.0             0.0   \n",
            "\n",
            "   city_Mumbai  city_Pune  \n",
            "0          0.0        0.0  \n",
            "1          0.0        0.0  \n",
            "2          1.0        0.0  \n",
            "3          0.0        1.0  \n"
          ]
        }
      ]
    },
    {
      "cell_type": "code",
      "source": [
        "import pandas as pd\n",
        "from sklearn.preprocessing import LabelEncoder\n",
        "\n",
        "data = {\n",
        "    'age': [25, 30, 35, 40],\n",
        "    'gender': ['Male', 'Female', 'Male', 'Female'],\n",
        "    'city': ['Hyderabad', 'Bangalore', 'Mumbai', 'Pune']\n",
        "}\n",
        "df = pd.DataFrame(data)\n",
        "print(\"Original Dataset:\")\n",
        "print(df)\n",
        "label_encoder = LabelEncoder()\n",
        "df['gender_encoded'] = label_encoder.fit_transform(df['gender'])\n",
        "df['city_encoded'] = label_encoder.fit_transform(df['city'])\n",
        "print(\"\\nDataset After Label Encoding:\")\n",
        "print(df)"
      ],
      "metadata": {
        "colab": {
          "base_uri": "https://localhost:8080/"
        },
        "id": "wvqzV9YI-mdM",
        "outputId": "51a05ed4-640b-40ac-fe96-5e5b3f5a5c35"
      },
      "execution_count": 12,
      "outputs": [
        {
          "output_type": "stream",
          "name": "stdout",
          "text": [
            "Original Dataset:\n",
            "   age  gender       city\n",
            "0   25    Male  Hyderabad\n",
            "1   30  Female  Bangalore\n",
            "2   35    Male     Mumbai\n",
            "3   40  Female       Pune\n",
            "\n",
            "Dataset After Label Encoding:\n",
            "   age  gender       city  gender_encoded  city_encoded\n",
            "0   25    Male  Hyderabad               1             1\n",
            "1   30  Female  Bangalore               0             0\n",
            "2   35    Male     Mumbai               1             2\n",
            "3   40  Female       Pune               0             3\n"
          ]
        }
      ]
    },
    {
      "cell_type": "code",
      "source": [
        "import pandas as pd\n",
        "from sklearn.preprocessing import OneHotEncoder\n",
        "\n",
        "data = {\n",
        "    'age': [25, 30, 35, 40],\n",
        "    'gender': ['Male','Female','Male','Female'],\n",
        "    'city': ['Hyderabad','Bangalore','Mumbai','Pune'],\n",
        "    'fav-fruit':['orange','mango','apple','banana']\n",
        "}\n",
        "\n",
        "df = pd.DataFrame(data)\n",
        "print(\"Original Dataset:\")\n",
        "print(df)\n",
        "one_hot_encoder=OneHotEncoder(sparse_output=False)\n",
        "columns_to_encode=['gender','fav-fruit']\n",
        "encoded_data = one_hot_encoder.fit_transform(df[columns_to_encode])\n",
        "encoded_columns=one_hot_encoder.get_feature_names_out(columns_to_encode)\n",
        "encoded_df=pd.DataFrame(encoded_data, columns=encoded_columns)\n",
        "print(encoded_df)\n",
        "df_combined = pd.concat([df.drop(columns=columns_to_encode), encoded_df], axis=1)\n",
        "print(\"\\nDataset After One-Hot Encoding and Combination:\")\n",
        "print(df_combined)"
      ],
      "metadata": {
        "colab": {
          "base_uri": "https://localhost:8080/"
        },
        "id": "ebAwGm0S-nzN",
        "outputId": "c962e84e-6cad-47a3-eec3-f030af1cb114"
      },
      "execution_count": 13,
      "outputs": [
        {
          "output_type": "stream",
          "name": "stdout",
          "text": [
            "Original Dataset:\n",
            "   age  gender       city fav-fruit\n",
            "0   25    Male  Hyderabad    orange\n",
            "1   30  Female  Bangalore     mango\n",
            "2   35    Male     Mumbai     apple\n",
            "3   40  Female       Pune    banana\n",
            "   gender_Female  gender_Male  fav-fruit_apple  fav-fruit_banana  \\\n",
            "0            0.0          1.0              0.0               0.0   \n",
            "1            1.0          0.0              0.0               0.0   \n",
            "2            0.0          1.0              1.0               0.0   \n",
            "3            1.0          0.0              0.0               1.0   \n",
            "\n",
            "   fav-fruit_mango  fav-fruit_orange  \n",
            "0              0.0               1.0  \n",
            "1              1.0               0.0  \n",
            "2              0.0               0.0  \n",
            "3              0.0               0.0  \n",
            "\n",
            "Dataset After One-Hot Encoding and Combination:\n",
            "   age       city  gender_Female  gender_Male  fav-fruit_apple  \\\n",
            "0   25  Hyderabad            0.0          1.0              0.0   \n",
            "1   30  Bangalore            1.0          0.0              0.0   \n",
            "2   35     Mumbai            0.0          1.0              1.0   \n",
            "3   40       Pune            1.0          0.0              0.0   \n",
            "\n",
            "   fav-fruit_banana  fav-fruit_mango  fav-fruit_orange  \n",
            "0               0.0              0.0               1.0  \n",
            "1               0.0              1.0               0.0  \n",
            "2               0.0              0.0               0.0  \n",
            "3               1.0              0.0               0.0  \n"
          ]
        }
      ]
    },
    {
      "cell_type": "code",
      "source": [
        "import pandas as pd\n",
        "from sklearn.preprocessing import LabelEncoder\n",
        "\n",
        "data = {\n",
        "    'age': [25, 30, 35, 40],\n",
        "    'gender': ['Male','Female','Male','Female'],\n",
        "    'city': ['Hyderabad','Bangalore','Mumbai','Pune'],\n",
        "    'fav-fruit':['orange','mango','apple','banana']\n",
        "}\n",
        "\n",
        "df = pd.DataFrame(data)\n",
        "print(\"Original Dataset:\")\n",
        "print(df)\n",
        "label_encoder = LabelEncoder()\n",
        "df['gender_encoded'] = label_encoder.fit_transform(df['gender'])\n",
        "df['fav-fruit_encoded'] = label_encoder.fit_transform(df['fav-fruit'])\n",
        "print(\"\\nDataset After Label Encoding:\")\n",
        "print(df)"
      ],
      "metadata": {
        "colab": {
          "base_uri": "https://localhost:8080/"
        },
        "id": "FOQEzKtM-rpd",
        "outputId": "c6234ae7-84e3-4b63-9e17-c2292b2ebd12"
      },
      "execution_count": 14,
      "outputs": [
        {
          "output_type": "stream",
          "name": "stdout",
          "text": [
            "Original Dataset:\n",
            "   age  gender       city fav-fruit\n",
            "0   25    Male  Hyderabad    orange\n",
            "1   30  Female  Bangalore     mango\n",
            "2   35    Male     Mumbai     apple\n",
            "3   40  Female       Pune    banana\n",
            "\n",
            "Dataset After Label Encoding:\n",
            "   age  gender       city fav-fruit  gender_encoded  fav-fruit_encoded\n",
            "0   25    Male  Hyderabad    orange               1                  3\n",
            "1   30  Female  Bangalore     mango               0                  2\n",
            "2   35    Male     Mumbai     apple               1                  0\n",
            "3   40  Female       Pune    banana               0                  1\n"
          ]
        }
      ]
    }
  ],
  "metadata": {
    "colab": {
      "provenance": [],
      "authorship_tag": "ABX9TyOrJw8NtcaCNef1PK49OYMk",
      "include_colab_link": true
    },
    "kernelspec": {
      "display_name": "Python 3",
      "name": "python3"
    },
    "language_info": {
      "name": "python"
    }
  },
  "nbformat": 4,
  "nbformat_minor": 0
}