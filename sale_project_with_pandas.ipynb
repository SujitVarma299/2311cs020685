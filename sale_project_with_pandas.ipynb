{
  "cells": [
    {
      "cell_type": "code",
      "execution_count": 2,
      "metadata": {
        "colab": {
          "base_uri": "https://localhost:8080/"
        },
        "id": "wfI7QtVHFBMV",
        "outputId": "6ed842b7-b834-4bf3-c900-d9f195128692"
      },
      "outputs": [
        {
          "name": "stdout",
          "output_type": "stream",
          "text": [
            "Sales DataFrame:\n",
            "   TransactionID  CustomerID  Amount        Date\n",
            "0              1         101     250  2025-01-01\n",
            "1              2         102     300  2025-01-02\n",
            "2              3         103     400  2025-01-03\n",
            "3              4         104     500  2025-01-04\n",
            "4              5         101     600  2025-01-05\n",
            "\n",
            "Shape of sales data: (5, 4)\n",
            "\n",
            "Sales data statistics:\n",
            "       TransactionID  CustomerID      Amount\n",
            "count       5.000000     5.00000    5.000000\n",
            "mean        3.000000   102.20000  410.000000\n",
            "std         1.581139     1.30384  143.178211\n",
            "min         1.000000   101.00000  250.000000\n",
            "25%         2.000000   101.00000  300.000000\n",
            "50%         3.000000   102.00000  400.000000\n",
            "75%         4.000000   103.00000  500.000000\n",
            "max         5.000000   104.00000  600.000000\n",
            "Sales dataframe    TransactionID  CustomerID  Amount        Date\n",
            "0              1         101     250  2025-01-01\n",
            "1              2         102     300  2025-01-02\n",
            "2              3         103     400  2025-01-03\n",
            "3              4         104     500  2025-01-04\n",
            "4              5         101     600  2025-01-05\n",
            "customers_df    CustomerID CustomerName  Age         City\n",
            "0         101        Alice   30     New York\n",
            "1         102          Bob   35  Los Angeles\n",
            "2         103      Charlie   40      Chicago\n",
            "3         104        David   25      Houston\n"
          ]
        }
      ],
      "source": [
        "import pandas as pd\n",
        "\n",
        "# Sample data for sales transactions and customer information\n",
        "sales_data = {\n",
        "    'TransactionID': [1, 2, 3, 4, 5],\n",
        "    'CustomerID': [101, 102, 103, 104, 101],\n",
        "    'Amount': [250, 300, 400, 500, 600],\n",
        "    'Date': ['2025-01-01', '2025-01-02', '2025-01-03', '2025-01-04', '2025-01-05']\n",
        "} # Display Amount and Date from sales data\n",
        "customer_data = {\n",
        "    'CustomerID': [101, 102, 103, 104],\n",
        "    'CustomerName': ['Alice', 'Bob', 'Charlie', 'David'],\n",
        "    'Age': [30, 35, 40, 25],\n",
        "    'City': ['New York', 'Los Angeles', 'Chicago', 'Houston']\n",
        "}# Display Customer name and city from customer data\n",
        "# Display customer ids  with amount>400\n",
        "# Convert data into DataFrame\n",
        "sales_df = pd.DataFrame(sales_data)\n",
        "customers_df = pd.DataFrame(customer_data)\n",
        "# Show basic structure of sales_df\n",
        "print(\"Sales DataFrame:\")\n",
        "print(sales_df.head())\n",
        "\n",
        "# 1. Exploring the dataset (using shape and describe)\n",
        "print(\"\\nShape of sales data:\", sales_df.shape)  # Get number of rows and columns\n",
        "print(\"\\nSales data statistics:\")\n",
        "print(sales_df.describe())  # Summary statistics\n",
        "print(\"Sales dataframe\",sales_df)\n",
        "print(\"customers_df\",customers_df)\n",
        "\n",
        "#   Filter a dataframe of sales dataframe where sales amount >400\n",
        "#display(data.loc[(data.Brand == 'Maruti') & (data.Year == 2012)])\n"
      ]
    },
    {
      "cell_type": "code",
      "execution_count": 3,
      "metadata": {
        "colab": {
          "base_uri": "https://localhost:8080/"
        },
        "id": "VzcXVQxAix2e",
        "outputId": "dc8c16d3-26f8-4150-c86f-3f4de03fd4b7"
      },
      "outputs": [
        {
          "name": "stdout",
          "output_type": "stream",
          "text": [
            "\n",
            "Merged DataFrame:\n",
            "   TransactionID  CustomerID  Amount        Date CustomerName  Age  \\\n",
            "0              1         101     250  2025-01-01        Alice   30   \n",
            "1              2         102     300  2025-01-02          Bob   35   \n",
            "2              3         103     400  2025-01-03      Charlie   40   \n",
            "3              4         104     500  2025-01-04        David   25   \n",
            "4              5         101     600  2025-01-05        Alice   30   \n",
            "\n",
            "          City  \n",
            "0     New York  \n",
            "1  Los Angeles  \n",
            "2      Chicago  \n",
            "3      Houston  \n",
            "4     New York  \n"
          ]
        }
      ],
      "source": [
        "# 2. Merging data (Sales with Customer info)\n",
        "merged_df = pd.merge(sales_df, customers_df, on='CustomerID', how='inner')\n",
        "print(\"\\nMerged DataFrame:\")\n",
        "print(merged_df)\n"
      ]
    },
    {
      "cell_type": "code",
      "execution_count": null,
      "metadata": {
        "id": "XjGW91hxix6I"
      },
      "outputs": [],
      "source": []
    },
    {
      "cell_type": "code",
      "execution_count": 4,
      "metadata": {
        "colab": {
          "base_uri": "https://localhost:8080/"
        },
        "id": "x47T2fpK5L_U",
        "outputId": "a6af84aa-2bde-45ed-f669-f2954979c195"
      },
      "outputs": [
        {
          "name": "stdout",
          "output_type": "stream",
          "text": [
            "\n",
            "Merged DataFrame:\n",
            "   TransactionID  CustomerID  Amount        Date CustomerName  Age  \\\n",
            "0              1         101     250  2025-01-01        Alice   30   \n",
            "1              2         102     300  2025-01-02          Bob   35   \n",
            "2              3         103     400  2025-01-03      Charlie   40   \n",
            "3              4         104     500  2025-01-04        David   25   \n",
            "4              5         101     600  2025-01-05        Alice   30   \n",
            "\n",
            "          City  \n",
            "0     New York  \n",
            "1  Los Angeles  \n",
            "2      Chicago  \n",
            "3      Houston  \n",
            "4     New York  \n",
            "\n",
            "Access data using `loc` (row 1):\n",
            "TransactionID              2\n",
            "CustomerID               102\n",
            "Amount                   300\n",
            "Date              2025-01-02\n",
            "CustomerName             Bob\n",
            "Age                       35\n",
            "City             Los Angeles\n",
            "Name: 1, dtype: object\n",
            "\n",
            "Access data using `iloc` (row 2):\n",
            "TransactionID             3\n",
            "CustomerID              103\n",
            "Amount                  400\n",
            "Date             2025-01-03\n",
            "CustomerName        Charlie\n",
            "Age                      40\n",
            "City                Chicago\n",
            "Name: 2, dtype: object\n",
            "   TransactionID  CustomerID  Amount        Date CustomerName   Age  \\\n",
            "0              1         101     250  2025-01-01        Alice  30.0   \n",
            "1              2         102     300  2025-01-02          Bob  35.0   \n",
            "2              3         103     400  2025-01-03      Charlie   NaN   \n",
            "3              4         104     500  2025-01-04        David  25.0   \n",
            "4              5         101     600  2025-01-05        Alice  30.0   \n",
            "\n",
            "          City  \n",
            "0     New York  \n",
            "1  Los Angeles  \n",
            "2      Chicago  \n",
            "3      Houston  \n",
            "4     New York  \n",
            "\n",
            "Check missing values (isnull):\n",
            "TransactionID    0\n",
            "CustomerID       0\n",
            "Amount           0\n",
            "Date             0\n",
            "CustomerName     0\n",
            "Age              1\n",
            "City             0\n",
            "dtype: int64\n",
            "\n",
            "Data after filling missing values:\n",
            "   TransactionID  CustomerID  Amount        Date CustomerName   Age  \\\n",
            "0              1         101     250  2025-01-01        Alice  30.0   \n",
            "1              2         102     300  2025-01-02          Bob  35.0   \n",
            "2              3         103     400  2025-01-03      Charlie  30.0   \n",
            "3              4         104     500  2025-01-04        David  25.0   \n",
            "4              5         101     600  2025-01-05        Alice  30.0   \n",
            "\n",
            "          City  \n",
            "0     New York  \n",
            "1  Los Angeles  \n",
            "2      Chicago  \n",
            "3      Houston  \n",
            "4     New York  \n",
            "\n",
            "Mean sales per customer:\n",
            "CustomerName\n",
            "Alice      425.0\n",
            "Bob        300.0\n",
            "Charlie    400.0\n",
            "David      500.0\n",
            "Name: Amount, dtype: float64\n"
          ]
        },
        {
          "name": "stderr",
          "output_type": "stream",
          "text": [
            "<ipython-input-4-489e870a32fb>:22: FutureWarning: A value is trying to be set on a copy of a DataFrame or Series through chained assignment using an inplace method.\n",
            "The behavior will change in pandas 3.0. This inplace method will never work because the intermediate object on which we are setting values always behaves as a copy.\n",
            "\n",
            "For example, when doing 'df[col].method(value, inplace=True)', try using 'df.method({col: value}, inplace=True)' or df[col] = df[col].method(value) instead, to perform the operation inplace on the original object.\n",
            "\n",
            "\n",
            "  merged_df['Age'].fillna(merged_df['Age'].mean(), inplace=True)\n"
          ]
        }
      ],
      "source": [
        "# 2. Merging data (Sales with Customer info)\n",
        "merged_df = pd.merge(sales_df, customers_df, on='CustomerID', how='inner')\n",
        "print(\"\\nMerged DataFrame:\")\n",
        "print(merged_df)\n",
        "\n",
        "# 3. Accessing data using `loc` and `iloc`\n",
        "print(\"\\nAccess data using `loc` (row 1):\")\n",
        "print(merged_df.loc[1])\n",
        "\n",
        "print(\"\\nAccess data using `iloc` (row 2):\")\n",
        "print(merged_df.iloc[2])\n",
        "\n",
        "# 4. Handling Missing Values\n",
        "# Let's introduce some missing data for demonstration\n",
        "merged_df.loc[2, 'Age'] = None  # Introduce missing value in Age column\n",
        "print(merged_df)\n",
        "# Check for missing values\n",
        "print(\"\\nCheck missing values (isnull):\")\n",
        "print(merged_df.isnull().sum())\n",
        "\n",
        "# Fill missing values with the mean (for Age column)\n",
        "merged_df['Age'].fillna(merged_df['Age'].mean(), inplace=True)\n",
        "print(\"\\nData after filling missing values:\")\n",
        "print(merged_df)\n",
        "\n",
        "# 5. Aggregation: Calculate the mean sales per customer\n",
        "mean_sales = merged_df.groupby('CustomerName')['Amount'].mean()\n",
        "print(\"\\nMean sales per customer:\")\n",
        "print(mean_sales)\n"
      ]
    },
    {
      "cell_type": "code",
      "execution_count": null,
      "metadata": {
        "id": "qAelzwcuiqpy"
      },
      "outputs": [],
      "source": [
        "# Create a Dataframe for Patient Information  and include column names as below\n",
        "#1)Patient Name\n",
        "#2) Age\n",
        "#3) Date of oppointment\n",
        "#4) Patient id\n",
        "#Create a dataframe name as drag_quantity that includes column names as  drag name,quantity,patient_id\n",
        "# Filter dataframe  to get Patient name and age <6\n",
        "\n",
        "#Merge the dataframes with inner join of Patient information and drag quantity dataframe\n",
        "\n",
        "\n",
        "\n"
      ]
    },
    {
      "cell_type": "code",
      "execution_count": null,
      "metadata": {
        "id": "MAtanxn-5MC4"
      },
      "outputs": [],
      "source": []
    }
  ],
  "metadata": {
    "colab": {
      "provenance": []
    },
    "kernelspec": {
      "display_name": "Python 3",
      "name": "python3"
    },
    "language_info": {
      "name": "python"
    }
  },
  "nbformat": 4,
  "nbformat_minor": 0
}
